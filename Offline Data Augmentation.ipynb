{
 "cells": [
  {
   "cell_type": "code",
   "execution_count": 1,
   "id": "bae7a38e-8d56-438d-a58c-c38ff3eb3edb",
   "metadata": {},
   "outputs": [],
   "source": [
    "from keras.preprocessing.image import ImageDataGenerator\n",
    "from skimage import io\n",
    "datagen = ImageDataGenerator(        \n",
    "        rotation_range = 10,\n",
    "        fill_mode='nearest',\n",
    "        width_shift_range=0.1, \n",
    "        height_shift_range=0.1,\n",
    "        shear_range = 0.2,\n",
    "        zoom_range = 0.1,\n",
    "        horizontal_flip = True,\n",
    "        vertical_flip=True,\n",
    "        brightness_range = (0.5, 1.5))\n",
    "import numpy as np\n",
    "import os\n",
    "from PIL import Image"
   ]
  },
  {
   "cell_type": "code",
   "execution_count": 2,
   "id": "111c6dd6-d7fc-4d1c-858f-f77e01dbc843",
   "metadata": {},
   "outputs": [],
   "source": [
    "image_directory = r'0/'\n",
    "SIZE = 640\n",
    "dataset = []\n",
    "my_images = os.listdir(image_directory)\n",
    "for i, image_name in enumerate(my_images):    \n",
    "    if (image_name.split('.')[1] == 'jpg'):        \n",
    "        image = io.imread(image_directory + image_name)        \n",
    "        image = Image.fromarray(image, 'RGB')        \n",
    "        image = image.resize((SIZE,SIZE)) \n",
    "        dataset.append(np.array(image))\n",
    "x = np.array(dataset)\n",
    "i = 0\n",
    "for batch in datagen.flow(x, batch_size=16,\n",
    "                          save_to_dir= r'Augmented-images',\n",
    "                          save_prefix='dr',\n",
    "                          save_format='jpg'):    \n",
    "    i += 1    \n",
    "    if i > 300:        \n",
    "        break \n"
   ]
  },
  {
   "cell_type": "code",
   "execution_count": null,
   "id": "9f1b87b8-cfb6-4762-89ca-5862570957af",
   "metadata": {},
   "outputs": [],
   "source": []
  }
 ],
 "metadata": {
  "kernelspec": {
   "display_name": "Python 3 (ipykernel)",
   "language": "python",
   "name": "python3"
  },
  "language_info": {
   "codemirror_mode": {
    "name": "ipython",
    "version": 3
   },
   "file_extension": ".py",
   "mimetype": "text/x-python",
   "name": "python",
   "nbconvert_exporter": "python",
   "pygments_lexer": "ipython3",
   "version": "3.9.7"
  }
 },
 "nbformat": 4,
 "nbformat_minor": 5
}
